{
 "cells": [
  {
   "cell_type": "markdown",
   "metadata": {},
   "source": [
    "# 感知机和线性回归\n",
    "\n",
    "对于数据对$\\{x_i,y_i\\}_{i=1}^n$ $x_i\\in R^d$,进行线性监督学习问题的求解。  \n",
    "感知机是一种简单的二分类方法，$y_i\\in\\{-1,1\\}$;  \n",
    "而在线性回归中，$y_i\\in R$。  \n"
   ]
  },
  {
   "cell_type": "markdown",
   "metadata": {},
   "source": [
    "## 感知机的三要素\n",
    "   - 线性模型： $g(x)=w^Tx +b$ $\\rightarrow$ 通过扩维写成较为简洁的形式 $g(x)=w^Tx$ （仍用$w$和$x$表示）\n",
    "   -  准则：$w^* = argmin_w l(w) = argmin_w -\\sum_{x_i\\in M}y_iw^Tx_i$\n",
    "   -  优化算法：梯度下降法，梯度为 $dl/dw = -\\sum_{x_i \\in M}y_ix_i$"
   ]
  },
  {
   "cell_type": "markdown",
   "metadata": {},
   "source": [
    "## 线性回归\n",
    "   - 线性模型： $g(x)=x\\beta +\\beta_0$ $\\rightarrow$ 通过扩维写成较为简洁的形式 $g(x)=x\\beta$ （仍用$\\beta$和$x$表示）\n",
    "   - 最小二乘准则：$\\beta^* = argmin_\\beta \\frac{1}{n}\\sum_{i=1}^n(y_i-g(x_i))^2=\\frac{1}{n}(Y-X\\beta)^T(Y-X\\beta)$\n",
    "   -  优化算法：\n",
    "       - 梯度下降法，梯度为 $dl/dw = \\frac{2}{n}\\sum_{i=1}^n (-X^TY+X^TX\\beta)$，海森矩阵 $\\frac{dl}{dwdw^T}=\\frac{1}{n}X^TX$\n",
    "       - 直接解：$\\beta = X^+Y \\ or \\ (X^TX)^{-1}X^TY$ \n",
    "       - $(X^TX)$ 可逆($X$ 列满秩)，有全局唯一解，不可逆时仍有最优解，无穷多个最优解。"
   ]
  },
  {
   "cell_type": "markdown",
   "metadata": {},
   "source": [
    "# Logistic Regression"
   ]
  },
  {
   "cell_type": "markdown",
   "metadata": {},
   "source": [
    "## 名可名非恒名\n",
    "   - 逻辑斯蒂回归\n",
    "   - 罗杰斯特回归\n",
    "   - 罗吉斯回归\n",
    "   - 逻辑回归（？）"
   ]
  },
  {
   "cell_type": "code",
   "execution_count": null,
   "metadata": {},
   "outputs": [],
   "source": []
  }
 ],
 "metadata": {
  "kernelspec": {
   "display_name": "Python 3",
   "language": "python",
   "name": "python3"
  },
  "language_info": {
   "codemirror_mode": {
    "name": "ipython",
    "version": 3
   },
   "file_extension": ".py",
   "mimetype": "text/x-python",
   "name": "python",
   "nbconvert_exporter": "python",
   "pygments_lexer": "ipython3",
   "version": "3.7.3"
  },
  "toc": {
   "base_numbering": 1,
   "nav_menu": {},
   "number_sections": true,
   "sideBar": true,
   "skip_h1_title": false,
   "title_cell": "Table of Contents",
   "title_sidebar": "Contents",
   "toc_cell": false,
   "toc_position": {},
   "toc_section_display": true,
   "toc_window_display": false
  }
 },
 "nbformat": 4,
 "nbformat_minor": 2
}
